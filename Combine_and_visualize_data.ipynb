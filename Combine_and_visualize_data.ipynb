{
  "cells": [
    {
      "cell_type": "markdown",
      "metadata": {
        "id": "view-in-github",
        "colab_type": "text"
      },
      "source": [
        "<a href=\"https://colab.research.google.com/github/rmcquigg/CCZNet_hydro/blob/main/Combine_and_visualize_data.ipynb\" target=\"_parent\"><img src=\"https://colab.research.google.com/assets/colab-badge.svg\" alt=\"Open In Colab\"/></a>"
      ]
    },
    {
      "cell_type": "code",
      "execution_count": null,
      "metadata": {
        "colab": {
          "base_uri": "https://localhost:8080/"
        },
        "collapsed": true,
        "id": "JN6EJXC6Kk1f",
        "outputId": "1beb7638-fe13-4bf0-c009-05105900475e",
        "cellView": "form"
      },
      "outputs": [
        {
          "name": "stdout",
          "output_type": "stream",
          "text": [
            "Mounted at /content/drive/\n"
          ]
        }
      ],
      "source": [
        "# @markdown **Connect this notebook to your Google Drive and import libraries.**\n",
        "\n",
        "import pandas as pd\n",
        "import plotly.express as px\n",
        "from google.colab import drive\n",
        "drive.mount(\"/content/drive/\")"
      ]
    },
    {
      "cell_type": "code",
      "execution_count": null,
      "metadata": {
        "cellView": "form",
        "id": "mD3_TLSd8FiM"
      },
      "outputs": [],
      "source": [
        "#@markdown **Enter file names below:**\n",
        "\n",
        "#@markdown This will combine the two files into one table on a timestamp index. This assumes the left-most column in each file contains the date and time.\n",
        "\n",
        "#@markdown Each file must have distinct headers (i.e. if both files have the site name as a header, you will need to add a suffix to differentiate between them).\n",
        "\n",
        "#@markdown ---\n",
        "path='/content/drive/Shared drives/CZ Collaborative/Data Management/Data/'\n",
        "file1='SMWC.csv' #@param {type:\"string\"}\n",
        "file2='SMWC.csv' #@param {type:\"string\"}\n",
        "file3='' #@param {type:\"string\"}"
      ]
    },
    {
      "cell_type": "code",
      "execution_count": null,
      "metadata": {
        "colab": {
          "background_save": true
        },
        "id": "MsoCWWTqC8fw",
        "cellView": "form"
      },
      "outputs": [],
      "source": [
        "# @markdown **Select 4 columns to plot:**\n",
        "Column_1 = \"\"\n",
        "import ipywidgets as widgets\n",
        "from ipywidgets import Button, HBox, VBox\n",
        "file1p=path+file1\n",
        "file2p=path+file2\n",
        "df1=pd.read_csv(file1p,index_col=0,na_values='NAN')\n",
        "df1.index=pd.to_datetime(df1.index)\n",
        "df2=pd.read_csv(file2p,index_col=0,na_values='NAN')\n",
        "df2.index=pd.to_datetime(df2.index)\n",
        "data=df1.merge(df2,how='outer',left_index=True, right_index=True)\n",
        "\n",
        "if file3 != \"\":\n",
        "  file3p=path+file3\n",
        "  df3=pd.read_csv(file3p,index_col=0,na_values='NAN')\n",
        "  df3.index=pd.to_datetime(df3.index)\n",
        "  data=data.merge(df3,how='outer',left_index=True, right_index=True)\n",
        "\n",
        "col1=widgets.Dropdown(options=list(data.columns.values),description='Column 1:')\n",
        "col2=widgets.Dropdown(options=list(data.columns.values),description='Column 2:')\n",
        "col3=widgets.Dropdown(options=list(data.columns.values),description='Column 3:',value=None)\n",
        "col4=widgets.Dropdown(options=list(data.columns.values),description='Column 4:',value=None)\n",
        "col5=widgets.Dropdown(options=list(data.columns.values),description='Column 5:',value=None)\n",
        "col6=widgets.Dropdown(options=list(data.columns.values),description='Column 6:',value=None)\n",
        "col7=widgets.Dropdown(options=list(data.columns.values),description='Column 7:',value=None)\n",
        "col8=widgets.Dropdown(options=list(data.columns.values),description='Column 8:',value=None)\n",
        "col9=widgets.Dropdown(options=list(data.columns.values),description='Column 9:',value=None)\n",
        "col10=widgets.Dropdown(options=list(data.columns.values),description='Column 10:',value=None)\n",
        "col11=widgets.Dropdown(options=list(data.columns.values),description='Column 11:',value=None)\n",
        "col12=widgets.Dropdown(options=list(data.columns.values),description='Column 12:',value=None)\n",
        "col13=widgets.Dropdown(options=list(data.columns.values),description='Column 13:',value=None)\n",
        "col14=widgets.Dropdown(options=list(data.columns.values),description='Column 14:',value=None)\n",
        "\n",
        "#display(col1,col2,col3,col4,col5,col6,col7,col8)\n",
        "\n",
        "check1=widgets.Checkbox(value=False,description='Column 1 on right y-axis',disabled=False)\n",
        "check2=widgets.Checkbox(value=False,description='Column 2 on right y-axis',disabled=False)\n",
        "check3=widgets.Checkbox(value=False,description='Column 3 on right y-axis',disabled=False)\n",
        "check4=widgets.Checkbox(value=False,description='Column 4 on right y-axis',disabled=False)\n",
        "check5=widgets.Checkbox(value=False,description='Column 5 on right y-axis',disabled=False)\n",
        "check6=widgets.Checkbox(value=False,description='Column 6 on right y-axis',disabled=False)\n",
        "check7=widgets.Checkbox(value=False,description='Column 7 on right y-axis',disabled=False)\n",
        "check8=widgets.Checkbox(value=False,description='Column 8 on right y-axis',disabled=False)\n",
        "check9=widgets.Checkbox(value=False,description='Column 9 on right y-axis',disabled=False)\n",
        "check10=widgets.Checkbox(value=False,description='Column 10 on right y-axis',disabled=False)\n",
        "check11=widgets.Checkbox(value=False,description='Column 11 on right y-axis',disabled=False)\n",
        "check12=widgets.Checkbox(value=False,description='Column 12 on right y-axis',disabled=False)\n",
        "check13=widgets.Checkbox(value=False,description='Column 13 on right y-axis',disabled=False)\n",
        "check14=widgets.Checkbox(value=False,description='Column 14 on right y-axis',disabled=False)\n",
        "\n",
        "\n",
        "#display(check1, check2, check3, check4,check5,check6,check7,check8)\n",
        "left_box=VBox([col1,col2,col3,col4,col5,col6,col7,col8,col9,col10,col11,col12,col13,col14])\n",
        "right_box=VBox([check1,check2,check3,check4,check5,check6,check7,check8,check9,check10,check11,check12,check13,check14])\n",
        "HBox([left_box, right_box])"
      ]
    },
    {
      "cell_type": "code",
      "execution_count": null,
      "metadata": {
        "id": "73oZ5hMthVx9",
        "cellView": "form"
      },
      "outputs": [],
      "source": [
        "#@markdown **Plot**\n",
        "\n",
        "#@markdown *To save, click the camera icon in the top right corner of the plot.*\n",
        "#ylist=[col1.value,col2.value,col3.value,col4.value,col5.value,col6.value,col7.value,col8.value]\n",
        "#fig=px.line(data,y=ylist)\n",
        "#fig.add_trace(px.line(y=col1.value,secondary_y=True))\n",
        "checksval=[check1.value,check2.value,check3.value,check4.value,check5.value,check6.value,check7.value,check8.value,check9.value,check10.value,check11.value,check12.value,check13.value,check14.value]\n",
        "checks=[check1,check2,check3,check4,check5,check6,check7,check8,check9,check10,check11,check12,check13,check14]\n",
        "checksdict={check1:col1.value,check2:col2.value,check3:col3.value,check4:col4.value,check5:col5.value,check6:col6.value,\n",
        "            check7:col7.value,check8:col8.value,check9:col9.value,check10:col10.value,check11:col11.value,check12:col12.value,check13:col13.value,check14:col14.value,}\n",
        "yleft=[]\n",
        "yright=[]\n",
        "for each in checks:\n",
        "  if each.value==True:\n",
        "    if (checksdict[each]) is not None:\n",
        "      yright.append(checksdict[each])\n",
        "  else:\n",
        "    if (checksdict[each]) is not None:\n",
        "      yleft.append(checksdict[each])\n",
        "\n",
        "yrighttitle='.'.join(str(x) for x in yright)\n",
        "ylefttitle='.'.join(str(x) for x in yleft)\n",
        "\n",
        "import plotly.graph_objects as go\n",
        "from plotly.subplots import make_subplots\n",
        "fig=make_subplots(specs=[[{\"secondary_y\": True}]])\n",
        "fig.add_trace(\n",
        "    go.Scatter(x=data.index,y=data[col1.value], name=col1.value),\n",
        "    secondary_y=check1.value)\n",
        "fig.add_trace(\n",
        "    go.Scatter(x=data.index,y=data[col2.value], name=col2.value),\n",
        "    secondary_y=check2.value)\n",
        "if col3.value is not None:\n",
        "  fig.add_trace(\n",
        "      go.Scatter(x=data.index,y=data[col3.value], name=col3.value),\n",
        "      secondary_y=check3.value)\n",
        "if col4.value is not None:\n",
        "  fig.add_trace(\n",
        "      go.Scatter(x=data.index,y=data[col4.value], name=col4.value),\n",
        "      secondary_y=check4.value)\n",
        "if col5.value is not None:\n",
        "  fig.add_trace(\n",
        "      go.Scatter(x=data.index,y=data[col5.value], name=col5.value),\n",
        "      secondary_y=check5.value)\n",
        "if col6.value is not None:\n",
        "  fig.add_trace(\n",
        "      go.Scatter(x=data.index,y=data[col6.value], name=col6.value),\n",
        "      secondary_y=check6.value)\n",
        "if col7.value is not None:\n",
        "  fig.add_trace(\n",
        "      go.Scatter(x=data.index,y=data[col7.value], name=col7.value),\n",
        "      secondary_y=check7.value)\n",
        "if col8.value is not None:\n",
        "  fig.add_trace(\n",
        "      go.Scatter(x=data.index,y=data[col8.value], name=col8.value),\n",
        "      secondary_y=check8.value)\n",
        "if col9.value is not None:\n",
        "  fig.add_trace(\n",
        "      go.Scatter(x=data.index,y=data[col9.value], name=col9.value),\n",
        "      secondary_y=check9.value)\n",
        "if col10.value is not None:\n",
        "  fig.add_trace(\n",
        "      go.Scatter(x=data.index,y=data[col10.value], name=col10.value),\n",
        "      secondary_y=check10.value)\n",
        "if col11.value is not None:\n",
        "  fig.add_trace(\n",
        "      go.Scatter(x=data.index,y=data[col11.value], name=col11.value),\n",
        "      secondary_y=check11.value)\n",
        "if col12.value is not None:\n",
        "  fig.add_trace(\n",
        "      go.Scatter(x=data.index,y=data[col12.value], name=col12.value),\n",
        "      secondary_y=check12.value)\n",
        "if col13.value is not None:\n",
        "  fig.add_trace(\n",
        "      go.Scatter(x=data.index,y=data[col13.value], name=col13.value),\n",
        "      secondary_y=check13.value)\n",
        "if col13.value is not None:\n",
        "  fig.add_trace(\n",
        "      go.Scatter(x=data.index,y=data[col14.value], name=col14.value),\n",
        "      secondary_y=check14.value)\n",
        "\n",
        "fig.update_xaxes(title_text=\"Date\")\n",
        "fig.update_yaxes(title_text=ylefttitle, secondary_y=False)\n",
        "fig.update_yaxes(title_text=yrighttitle, secondary_y=True)\n",
        "fig.update_yaxes(showgrid=False,zeroline=False)\n",
        "\n",
        "fig.show()"
      ]
    },
    {
      "cell_type": "code",
      "execution_count": null,
      "metadata": {
        "id": "lzqG412vPSau",
        "cellView": "form"
      },
      "outputs": [],
      "source": [
        "#@markdown **Save the combined table to the working Google Drive folder. Will overwrite any existing files with the same name.**\n",
        "data.to_csv('/content/drive/Shared drives/CZ Collaborative/Data Management/Data/data_combined.csv')"
      ]
    }
  ],
  "metadata": {
    "colab": {
      "provenance": [],
      "include_colab_link": true
    },
    "kernelspec": {
      "display_name": "Python 3",
      "name": "python3"
    },
    "language_info": {
      "name": "python"
    }
  },
  "nbformat": 4,
  "nbformat_minor": 0
}