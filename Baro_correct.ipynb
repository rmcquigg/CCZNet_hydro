{
  "nbformat": 4,
  "nbformat_minor": 0,
  "metadata": {
    "colab": {
      "name": "Baro_correct.ipynb",
      "provenance": [],
      "collapsed_sections": []
    },
    "kernelspec": {
      "name": "python3",
      "display_name": "Python 3"
    }
  },
  "cells": [
    {
      "cell_type": "markdown",
      "metadata": {
        "id": "As8e5ewdKIAi"
      },
      "source": [
        "###**LTC or pressure datalogger correction for barometric pressure fluctuations**\n",
        "\n",
        "\n",
        "---\n"
      ]
    },
    {
      "cell_type": "markdown",
      "metadata": {
        "id": "rW3gxX5o0ifD"
      },
      "source": [
        "**Connect to Shared Drive**\n",
        "\n",
        "You will be prompted to click on a link that will show you an authorization code. copy the authorization code into the input box below. You also may be asked to allow Google Colab access to your Drive."
      ]
    },
    {
      "cell_type": "code",
      "metadata": {
        "id": "Y22uRbOB0KVz"
      },
      "source": [
        "#Connect to Drive\n",
        "from google.colab import drive\n",
        "drive.mount(\"/content/drive/\")\n",
        "import pandas as pd\n",
        "import os"
      ],
      "execution_count": null,
      "outputs": []
    },
    {
      "cell_type": "markdown",
      "metadata": {
        "id": "FJ_5Ueeu0Os0"
      },
      "source": [
        "Specify file names for LTC and barometric files. Path name should be the same- make sure working files are in the preprocess_files folder."
      ]
    },
    {
      "cell_type": "code",
      "metadata": {
        "id": "auKKXb5M0MsY"
      },
      "source": [
        "#Rename the datfile and barofile to the filenames you want to use\n",
        "path='/content/drive/My Drive/Water/preprocess_files/'\n",
        "datfile='AL_A_WL.csv'\n",
        "barofile='AL_A_Baro.csv'"
      ],
      "execution_count": null,
      "outputs": []
    },
    {
      "cell_type": "markdown",
      "metadata": {
        "id": "S45uyXkaP3lb"
      },
      "source": [
        "For **Onset HOBO loggers**, run the 3 following code blocks.\n",
        "Skip this part if you're using another brand.\n",
        "\n",
        "Assumes input logger data file has 1. Pressure, 2. Temperature, in that order"
      ]
    },
    {
      "cell_type": "code",
      "metadata": {
        "id": "ANsuwAKL0ZFp"
      },
      "source": [
        "#1\n",
        "#Open data logger file, skip first row, only first 4 columns - *You may need to add another column if this is a LTC vs a LT*\n",
        "#Columns are renamed based on order (1, 2, 3, etc.) that they exist in the file\n",
        "#Add \"encoding='gbk'\" if degrees symbol doesn't show up\n",
        "df=pd.read_csv(path+datfile,skiprows=1,usecols = [i for i in range(4)])\n",
        "df.rename(columns = {list(df)[1]:'DateTime',list(df)[2]:'LOGGER_P_kPa',\n",
        "                     list(df)[3]:'LOGGER_Temp_C'}, inplace = True)\n",
        "df['DateTime']=pd.to_datetime(df['DateTime'])\n",
        "df=df.set_index('DateTime')\n",
        "df=df.drop(['#'],axis=1)\n",
        "#Drop any rows at the end with no value\n",
        "s=str(df['LOGGER_P_kPa'].last_valid_index())\n",
        "df=df[df.index<=s]\n",
        "\n",
        "#Bring in barometric data\n",
        "barodf=pd.read_csv(path+barofile,skiprows=1,usecols = [i for i in range(4)])\n",
        "barodf.rename(columns = {list(barodf)[1]:'DateTime',list(barodf)[2]:'BARO_P_kPa',\n",
        "                         list(barodf)[3]:'BARO_Temp_C'}, inplace = True) \n",
        "barodf['DateTime']=pd.to_datetime(barodf['DateTime'])\n",
        "barodf=barodf.set_index('DateTime')\n",
        "barodf=barodf.drop(['#'],axis=1)"
      ],
      "execution_count": null,
      "outputs": []
    },
    {
      "cell_type": "code",
      "metadata": {
        "id": "FhymPF2wmy0N"
      },
      "source": [
        "#2\n",
        "#Merge two dataframes, keeps ALL LTC records and interpolates any missing baro P values\n",
        "df=df.merge(barodf['BARO_P_kPa'],how='left',left_index=True,right_index=True)\n",
        "df['BARO_P_kPa']=df['BARO_P_kPa'].interpolate(axis=0)"
      ],
      "execution_count": null,
      "outputs": []
    },
    {
      "cell_type": "code",
      "metadata": {
        "id": "hzFTwl24mfeX"
      },
      "source": [
        "#3\n",
        "#Conversion constants\n",
        "PSI_PSF=144\n",
        "KPA_PSI=0.1450377\n",
        "FT_M=0.3048\n",
        "PSI_FT=2.0366\n",
        "\n",
        "#Convert baro pressure to meters water\n",
        "df.rename(columns = {'BARO_P_kPa':'BARO_mWater'}, inplace=True)\n",
        "df['BARO_mWater']=(df['BARO_mWater']*KPA_PSI*PSI_FT*FT_M)\n",
        "BP1=df['BARO_mWater'][0]\n",
        "\n",
        "#Get the temperature-dependent density compensation correction values\n",
        "te=df['LOGGER_Temp_C']\n",
        "p_lbft3=(((999.83952+16.945176*te)-(7.9870401e-03*(te**2))-(46.170461e-06*(te**3))+\n",
        "      (105.56302e-09*(te**4)) - (280.54253e-12*(te**5))) / (1 + 16.879850e-03*te))*0.0624279606\n",
        "\n",
        "#Convert logger pressure to meters water with density compensation\n",
        "df['LOGGER_mWater_corr']=((KPA_PSI*PSI_PSF*df['LOGGER_P_kPa']/p_lbft3)*FT_M)+(BP1-df['BARO_mWater'])\n",
        "\n",
        "df.head()"
      ],
      "execution_count": null,
      "outputs": []
    },
    {
      "cell_type": "markdown",
      "metadata": {
        "id": "Z0GsmJzzQEX4"
      },
      "source": [
        "For **Solinst LTC loggers**, run the 3 following code blocks.\n",
        "Skip this part if you're using another brand.\n",
        "\n",
        "Assumes input logger data file has 1. Temperature, 2. Level (NOT pressure), 3. Conductivity"
      ]
    },
    {
      "cell_type": "code",
      "metadata": {
        "id": "2f-W803YQKoD"
      },
      "source": [
        "#1\n",
        "#Import custom function - available for download on Github as find_first_row.py\n",
        "import sys\n",
        "sys.path.append('/content/drive/My Drive/CZN_hydro/Water/process_scripts')\n",
        "import find_first_row\n",
        "#Solinst typically have some logger metadata at the top of the file; this is to skip over that\n",
        "ffr=find_first_row.first_row('/content/drive/My Drive/CZN_hydro/Water/preprocess_files/'+file)\n",
        "ffrbaro=find_first_row.first_row('/content/drive/My Drive/CZN_hydro/Water/preprocess_files/'+barofile)\n",
        "#print(ffr)\n",
        "\n",
        "#Open data logger file\n",
        "df=pd.read_csv(path+datfile,skiprows=ffr)\n",
        "DateTime=df['Date']+' '+df['Time']\n",
        "df.insert(0,'DateTime',DateTime)\n",
        "df['DateTime']=pd.to_datetime(df['DateTime']).dt.round('15min').dt.strftime('%m/%d/%Y %H:%M:%S')\n",
        "df.rename(columns={'LEVEL':'LOGGER_mWater','TEMPERATURE':'LOGGER_Temp_C','CONDUCTIVITY':'LOGGER_EC'})\n",
        "df=df.set_index('DateTime')\n",
        "\n",
        "#Bring in barometric data\n",
        "barodf=pd.read_csv(path+barofile,skiprows=ffrbaro)\n",
        "DateTime=df['Date']+' '+df['Time']\n",
        "df.insert(0,'DateTime',DateTime)\n",
        "df['DateTime']=pd.to_datetime(df['DateTime']).dt.round('15min').dt.strftime('%m/%d/%Y %H:%M:%S')\n",
        "df.rename(columns={'LEVEL':'BARO_P_kPa','TEMPERATURE':'BARO_Temp_C'})\n",
        "barodf['DateTime']=pd.to_datetime(barodf['DateTime'])\n",
        "barodf=barodf.set_index('DateTime')"
      ],
      "execution_count": null,
      "outputs": []
    },
    {
      "cell_type": "code",
      "metadata": {
        "id": "ZEm6LB1fQJh-"
      },
      "source": [
        "#2\n",
        "#Merge two dataframes, keeps ALL LTC records and interpolates any missing baro P values\n",
        "df=df.merge(barodf['BARO_P_kPa'],how='left',left_index=True,right_index=True)\n",
        "df['BARO_P_kPa']=df['BARO_P_kPa'].interpolate(axis=0)"
      ],
      "execution_count": null,
      "outputs": []
    },
    {
      "cell_type": "code",
      "metadata": {
        "id": "BaWgXhTum7Mr"
      },
      "source": [
        "#3\n",
        "#Conversion constants\n",
        "PSI_PSF=144\n",
        "KPA_PSI=0.1450377\n",
        "FT_M=0.3048\n",
        "PSI_FT=2.0366\n",
        "\n",
        "#Convert baro pressure to meters water\n",
        "df.rename(columns = {'BARO_P_kPa':'BARO_mWater'}, inplace=True)\n",
        "df['BARO_mWater']=(df['BARO_mWater']*KPA_PSI*PSI_FT*FT_M)\n",
        "BP1=df['BARO_mWater'][0]\n",
        "\n",
        "#Correct for baro pressure\n",
        "df['LOGGER_mWater_corr']=df['LOGGER_mWater']+(BP1-df['BARO_mWater'])\n",
        "\n",
        "df.head()"
      ],
      "execution_count": null,
      "outputs": []
    },
    {
      "cell_type": "markdown",
      "metadata": {
        "id": "NgpZ4UhmyLrm"
      },
      "source": [
        "Run the following for ALL logger brands."
      ]
    },
    {
      "cell_type": "code",
      "metadata": {
        "id": "n32nhgSE0orh"
      },
      "source": [
        "#Save a copy to the folder with a suffix and delete old copy\n",
        "df.to_csv(path+datfile.split('.')[0]+'_baroCorrect.csv')\n",
        "os.remove(path+datfile)"
      ],
      "execution_count": null,
      "outputs": []
    }
  ]
}