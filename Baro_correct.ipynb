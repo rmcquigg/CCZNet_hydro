{
  "nbformat": 4,
  "nbformat_minor": 0,
  "metadata": {
    "colab": {
      "name": "Baro_correct.ipynb",
      "provenance": [],
      "collapsed_sections": []
    },
    "kernelspec": {
      "name": "python3",
      "display_name": "Python 3"
    }
  },
  "cells": [
    {
      "cell_type": "markdown",
      "metadata": {
        "id": "As8e5ewdKIAi"
      },
      "source": [
        "###**LTC or pressure datalogger correction for barometric pressure fluctuations**\n",
        "\n",
        "\n",
        "---\n"
      ]
    },
    {
      "cell_type": "markdown",
      "metadata": {
        "id": "rW3gxX5o0ifD"
      },
      "source": [
        "**Connect to Shared Drive**\n",
        "\n",
        "You will be prompted to click on a link that will show you an authorization code. copy the authorization code into the input box below. You also may be asked to allow Google Colab access to your Drive."
      ]
    },
    {
      "cell_type": "code",
      "metadata": {
        "id": "Y22uRbOB0KVz"
      },
      "source": [
        "#Connect to Drive, import packages\n",
        "from google.colab import drive\n",
        "drive.mount(\"/content/drive/\")\n",
        "import pandas as pd\n",
        "import os"
      ],
      "execution_count": null,
      "outputs": []
    },
    {
      "cell_type": "markdown",
      "metadata": {
        "id": "FJ_5Ueeu0Os0"
      },
      "source": [
        "Specify file names for LTC and barometric files. Path name should be the same- make sure working files are in the preprocess_files folder."
      ]
    },
    {
      "cell_type": "code",
      "metadata": {
        "id": "auKKXb5M0MsY"
      },
      "source": [
        "path='/content/drive/My Drive/Water/preprocess_files/'\n",
        "\n",
        "#Rename the datfile and barofile to the filenames you want to use\n",
        "datfile='MBM1_20210416_LTC.csv'\n",
        "barofile='MB_20210416_baro.csv'"
      ],
      "execution_count": null,
      "outputs": []
    },
    {
      "cell_type": "markdown",
      "metadata": {
        "id": "Z0GsmJzzQEX4"
      },
      "source": [
        "For **Solinst LTC loggers**, run code blocks #1-5 below.\n",
        "\n",
        "Assumes input logger data file has the following columns: TEMPERATURE, LEVEL, CONDUCTIVITY. The units for the LEVEL column should be meters."
      ]
    },
    {
      "cell_type": "markdown",
      "metadata": {
        "id": "bLKI7YNsj8pp"
      },
      "source": [
        "**#1. Imports custom function to find the start of the data in the logger file, opens and reads the logger file, opens and reads the barometric pressure file**"
      ]
    },
    {
      "cell_type": "code",
      "metadata": {
        "id": "2f-W803YQKoD"
      },
      "source": [
        "#Import custom function - available for download on Github as find_first_row.py\n",
        "import sys\n",
        "sys.path.append('/content/drive/My Drive/CZN_hydro/Water/process_scripts')\n",
        "import find_first_row\n",
        "#Solinst typically have some logger metadata at the top of the file; this is to skip over that\n",
        "ffr=find_first_row.first_row('/content/drive/My Drive/CZN_hydro/Water/preprocess_files/'+datfile)\n",
        "ffrbaro=find_first_row.first_row('/content/drive/My Drive/CZN_hydro/Water/preprocess_files/'+barofile)\n",
        "#print(ffr)\n",
        "\n",
        "#Open data logger file\n",
        "df=pd.read_csv(path+datfile,skiprows=ffr)\n",
        "DateTime=df['Date']+' '+df['Time']\n",
        "df.insert(0,'DateTime',DateTime)\n",
        "df['DateTime']=pd.to_datetime(df['DateTime']).dt.round('15min').dt.strftime('%m/%d/%Y %H:%M:%S')\n",
        "df=df.rename(columns={'LEVEL':'LOGGER_mWater','TEMPERATURE':'LOGGER_Temp_C','CONDUCTIVITY':'LOGGER_EC'})\n",
        "df=df.set_index('DateTime')\n",
        "\n",
        "#Bring in barometric data\n",
        "barodf=pd.read_csv(path+barofile,skiprows=ffrbaro)\n",
        "DateTime=barodf['Date']+' '+barodf['Time']\n",
        "barodf.insert(0,'DateTime',DateTime)\n",
        "barodf['DateTime']=pd.to_datetime(barodf['DateTime']).dt.round('15min').dt.strftime('%m/%d/%Y %H:%M:%S')\n",
        "barodf=barodf.rename(columns={'LEVEL':'BARO_P_kPa','TEMPERATURE':'BARO_Temp_C'})\n",
        "barodf['DateTime']=pd.to_datetime(barodf['DateTime'])\n",
        "barodf=barodf.set_index('DateTime')"
      ],
      "execution_count": null,
      "outputs": []
    },
    {
      "cell_type": "markdown",
      "metadata": {
        "id": "GgPf_sIvjxYO"
      },
      "source": [
        "**#2. Merge the barometric data into the logger data**"
      ]
    },
    {
      "cell_type": "code",
      "metadata": {
        "id": "ZEm6LB1fQJh-"
      },
      "source": [
        "#Merge two dataframes, keeps ALL LTC records and interpolates any missing baro P values\n",
        "df=df.merge(barodf['BARO_P_kPa'],how='left',left_index=True,right_index=True)\n",
        "df['BARO_P_kPa']=df['BARO_P_kPa'].interpolate(axis=0).fillna(method='bfill')"
      ],
      "execution_count": null,
      "outputs": []
    },
    {
      "cell_type": "markdown",
      "metadata": {
        "id": "RcuUe-UTjlHQ"
      },
      "source": [
        "**#3. Convert barometric pressure to meters of water, correct water levels for barometric pressure**"
      ]
    },
    {
      "cell_type": "code",
      "metadata": {
        "id": "BaWgXhTum7Mr"
      },
      "source": [
        "#Conversion constants\n",
        "PSI_PSF=144\n",
        "KPA_PSI=0.1450377\n",
        "FT_M=0.3048\n",
        "PSI_FT=2.0366\n",
        "\n",
        "#Convert baro pressure to meters water\n",
        "df.rename(columns = {'BARO_P_kPa':'BARO_mWater'}, inplace=True)\n",
        "df['BARO_mWater']=(df['BARO_mWater']*KPA_PSI*PSI_FT*FT_M)\n",
        "BP1=df['BARO_mWater'][0]\n",
        "\n",
        "#Correct for baro pressure\n",
        "df['LOGGER_mWater_corr']=df['LOGGER_mWater']+(BP1-df['BARO_mWater'])\n",
        "\n",
        "#Previous beginning of new dataframe\n",
        "df.head()"
      ],
      "execution_count": null,
      "outputs": []
    },
    {
      "cell_type": "markdown",
      "metadata": {
        "id": "5HOmZ0DxjZN1"
      },
      "source": [
        "**#4. Convert logger-measured EC to SC**"
      ]
    },
    {
      "cell_type": "code",
      "metadata": {
        "id": "aT9a_efH_7vA"
      },
      "source": [
        "#Convert EC to SC\n",
        "EC=df['LOGGER_EC']\n",
        "TEMP=df['LOGGER_Temp_C']\n",
        "df['LOGGER_SC']=round(EC/(1+0.0191*(TEMP-25)),1)"
      ],
      "execution_count": null,
      "outputs": []
    },
    {
      "cell_type": "markdown",
      "metadata": {
        "id": "NgpZ4UhmyLrm"
      },
      "source": [
        "**#5. Saves the corrected data to the same folder with a new suffix ('_baroC') and deleted the old copy**"
      ]
    },
    {
      "cell_type": "code",
      "metadata": {
        "id": "n32nhgSE0orh"
      },
      "source": [
        "#Save a copy to the folder with a suffix and delete old copy\n",
        "df.to_csv(path+datfile.split('.')[0]+'_baroC.csv')\n",
        "os.remove(path+datfile)"
      ],
      "execution_count": null,
      "outputs": []
    }
  ]
}