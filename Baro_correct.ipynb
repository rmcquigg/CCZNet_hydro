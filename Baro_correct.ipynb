{
  "nbformat": 4,
  "nbformat_minor": 0,
  "metadata": {
    "colab": {
      "name": "Baro_correct.ipynb",
      "provenance": [],
      "collapsed_sections": [],
      "authorship_tag": "ABX9TyM52u6uyqcZ4Zn5r26/kC/l"
    },
    "kernelspec": {
      "name": "python3",
      "display_name": "Python 3"
    }
  },
  "cells": [
    {
      "cell_type": "markdown",
      "metadata": {
        "id": "As8e5ewdKIAi"
      },
      "source": [
        "###**Pressure datalogger correction for barometric pressure fluctuations**"
      ]
    },
    {
      "cell_type": "markdown",
      "metadata": {
        "id": "TBH42WoU4cEz"
      },
      "source": [
        "At the moment, this is set up for Onset HOBO and baro files."
      ]
    },
    {
      "cell_type": "code",
      "metadata": {
        "colab": {
          "base_uri": "https://localhost:8080/"
        },
        "id": "Y22uRbOB0KVz",
        "outputId": "11954bb8-278c-4b98-c258-971cfab1f946"
      },
      "source": [
        "#Connect to Drive\r\n",
        "from google.colab import drive\r\n",
        "drive.mount(\"/content/drive/\")\r\n",
        "import pandas as pd\r\n",
        "import os"
      ],
      "execution_count": null,
      "outputs": [
        {
          "output_type": "stream",
          "text": [
            "Mounted at /content/drive/\n"
          ],
          "name": "stdout"
        }
      ]
    },
    {
      "cell_type": "markdown",
      "metadata": {
        "id": "FJ_5Ueeu0Os0"
      },
      "source": [
        "Specify names for LTC and barometric files. Path name should be the same- make sure working files are in the preprocess_files folder."
      ]
    },
    {
      "cell_type": "code",
      "metadata": {
        "id": "auKKXb5M0MsY"
      },
      "source": [
        "path='/content/drive/My Drive/CZN_hydro/Water/preprocess_files/'\r\n",
        "datfile='BN_A_20190314_LT.csv'\r\n",
        "barofile='BN_20190314_Baro.csv'"
      ],
      "execution_count": null,
      "outputs": []
    },
    {
      "cell_type": "code",
      "metadata": {
        "id": "ANsuwAKL0ZFp"
      },
      "source": [
        "#Open data logger file, skip first row, only first 4 columns\r\n",
        "df=pd.read_csv(path+datfile,skiprows=1,usecols = [i for i in range(4)])\r\n",
        "df.rename(columns = {list(df)[1]:'DateTime',list(df)[2]:'LOGGER_P_kPa',\r\n",
        "                     list(df)[3]:'LOGGER_Temp_C'}, inplace = True) \r\n",
        "df['DateTime']=pd.to_datetime(df['DateTime'])\r\n",
        "df=df.set_index('DateTime')\r\n",
        "df=df.drop(['#'],axis=1)\r\n",
        "#Drop any rows at the end with no value\r\n",
        "s=str(df['LOGGER_P_kPa'].last_valid_index())\r\n",
        "df=df[df.index<=s]\r\n",
        "\r\n",
        "#Bring in barometric data\r\n",
        "barodf=pd.read_csv(path+barofile,skiprows=1,usecols = [i for i in range(4)])\r\n",
        "barodf.rename(columns = {list(barodf)[1]:'DateTime',list(barodf)[2]:'BARO_P_kPa',\r\n",
        "                         list(barodf)[3]:'BARO_Temp_C'}, inplace = True) \r\n",
        "barodf['DateTime']=pd.to_datetime(barodf['DateTime'])\r\n",
        "barodf=barodf.set_index('DateTime')\r\n",
        "barodf=barodf.drop(['#'],axis=1)\r\n",
        "\r\n",
        "#Merge two dataframes, keeps ALL LTC records and interpolates any missing baro P values\r\n",
        "df=df.merge(barodf['BARO_P_kPa'],how='left',left_index=True,right_index=True)\r\n",
        "df['BARO_P_kPa']=df['BARO_P_kPa'].interpolate(axis=0)"
      ],
      "execution_count": null,
      "outputs": []
    },
    {
      "cell_type": "code",
      "metadata": {
        "colab": {
          "base_uri": "https://localhost:8080/",
          "height": 235
        },
        "id": "5CFBswta2Aho",
        "outputId": "a9b32f21-9a3b-4665-d247-04b02f3061cc"
      },
      "source": [
        "te=df['LOGGER_Temp_C']\r\n",
        "p_lbft3=(((999.83952+16.945176*te)-(7.9870401e-03*(te**2))-(46.170461e-06*(te**3))+\r\n",
        "      (105.56302e-09*(te**4)) - (280.54253e-12*(te**5))) / (1 + 16.879850e-03*te))*0.0624279606\r\n",
        "#Conversion constants\r\n",
        "PSI_PSF=144\r\n",
        "KPA_PSI=0.1450377\r\n",
        "FT_M=0.3048\r\n",
        "PSI_FT=2.0366\r\n",
        "\r\n",
        "df.head()"
      ],
      "execution_count": null,
      "outputs": [
        {
          "output_type": "execute_result",
          "data": {
            "text/html": [
              "<div>\n",
              "<style scoped>\n",
              "    .dataframe tbody tr th:only-of-type {\n",
              "        vertical-align: middle;\n",
              "    }\n",
              "\n",
              "    .dataframe tbody tr th {\n",
              "        vertical-align: top;\n",
              "    }\n",
              "\n",
              "    .dataframe thead th {\n",
              "        text-align: right;\n",
              "    }\n",
              "</style>\n",
              "<table border=\"1\" class=\"dataframe\">\n",
              "  <thead>\n",
              "    <tr style=\"text-align: right;\">\n",
              "      <th></th>\n",
              "      <th>LOGGER_Pressure_kPa</th>\n",
              "      <th>LOGGER_Temp_C</th>\n",
              "      <th>BARO_Pressure_kPa</th>\n",
              "    </tr>\n",
              "    <tr>\n",
              "      <th>DateTime</th>\n",
              "      <th></th>\n",
              "      <th></th>\n",
              "      <th></th>\n",
              "    </tr>\n",
              "  </thead>\n",
              "  <tbody>\n",
              "    <tr>\n",
              "      <th>2019-03-14 19:00:00</th>\n",
              "      <td>114.620</td>\n",
              "      <td>9.077</td>\n",
              "      <td>101.745</td>\n",
              "    </tr>\n",
              "    <tr>\n",
              "      <th>2019-03-14 19:15:00</th>\n",
              "      <td>114.591</td>\n",
              "      <td>8.779</td>\n",
              "      <td>101.765</td>\n",
              "    </tr>\n",
              "    <tr>\n",
              "      <th>2019-03-14 19:30:00</th>\n",
              "      <td>114.553</td>\n",
              "      <td>8.779</td>\n",
              "      <td>101.714</td>\n",
              "    </tr>\n",
              "    <tr>\n",
              "      <th>2019-03-14 19:45:00</th>\n",
              "      <td>114.543</td>\n",
              "      <td>8.779</td>\n",
              "      <td>101.680</td>\n",
              "    </tr>\n",
              "    <tr>\n",
              "      <th>2019-03-14 20:00:00</th>\n",
              "      <td>114.591</td>\n",
              "      <td>8.779</td>\n",
              "      <td>101.699</td>\n",
              "    </tr>\n",
              "  </tbody>\n",
              "</table>\n",
              "</div>"
            ],
            "text/plain": [
              "                     LOGGER_Pressure_kPa  LOGGER_Temp_C  BARO_Pressure_kPa\n",
              "DateTime                                                                  \n",
              "2019-03-14 19:00:00              114.620          9.077            101.745\n",
              "2019-03-14 19:15:00              114.591          8.779            101.765\n",
              "2019-03-14 19:30:00              114.553          8.779            101.714\n",
              "2019-03-14 19:45:00              114.543          8.779            101.680\n",
              "2019-03-14 20:00:00              114.591          8.779            101.699"
            ]
          },
          "metadata": {
            "tags": []
          },
          "execution_count": 21
        }
      ]
    },
    {
      "cell_type": "code",
      "metadata": {
        "colab": {
          "base_uri": "https://localhost:8080/",
          "height": 235
        },
        "id": "ibZc4G2k0cX8",
        "outputId": "0ade409e-0ef9-46e3-e044-de4e216e89de"
      },
      "source": [
        "#Convert baro pressure to meters water\r\n",
        "df.rename(columns = {'BARO_P_kPa':'BARO_mWater'}, inplace=True)\r\n",
        "df['BARO_mWater']=(df['BARO_mWater']*KPA_PSI*PSI_FT*FT_M)\r\n",
        "BP1=df['BARO_mWater'][0]\r\n",
        "\r\n",
        "#Convert logger pressure to meters water with density compensation\r\n",
        "df['LOGGER_mWater_corr']=((KPA_PSI*PSI_PSF*df['LOGGER_P_kPa']/p_lbft3)*FT_M)+(BP1-df['BARO_mWater'])\r\n",
        "\r\n",
        "df.head()"
      ],
      "execution_count": null,
      "outputs": [
        {
          "output_type": "execute_result",
          "data": {
            "text/html": [
              "<div>\n",
              "<style scoped>\n",
              "    .dataframe tbody tr th:only-of-type {\n",
              "        vertical-align: middle;\n",
              "    }\n",
              "\n",
              "    .dataframe tbody tr th {\n",
              "        vertical-align: top;\n",
              "    }\n",
              "\n",
              "    .dataframe thead th {\n",
              "        text-align: right;\n",
              "    }\n",
              "</style>\n",
              "<table border=\"1\" class=\"dataframe\">\n",
              "  <thead>\n",
              "    <tr style=\"text-align: right;\">\n",
              "      <th></th>\n",
              "      <th>LOGGER_Pressure_kPa</th>\n",
              "      <th>LOGGER_Temp_C</th>\n",
              "      <th>BARO_mWater</th>\n",
              "      <th>LOGGER_mWater_corr</th>\n",
              "    </tr>\n",
              "    <tr>\n",
              "      <th>DateTime</th>\n",
              "      <th></th>\n",
              "      <th></th>\n",
              "      <th></th>\n",
              "      <th></th>\n",
              "    </tr>\n",
              "  </thead>\n",
              "  <tbody>\n",
              "    <tr>\n",
              "      <th>2019-03-14 19:00:00</th>\n",
              "      <td>114.620</td>\n",
              "      <td>9.077</td>\n",
              "      <td>9.160405</td>\n",
              "      <td>11.690614</td>\n",
              "    </tr>\n",
              "    <tr>\n",
              "      <th>2019-03-14 19:15:00</th>\n",
              "      <td>114.591</td>\n",
              "      <td>8.779</td>\n",
              "      <td>9.162206</td>\n",
              "      <td>11.685600</td>\n",
              "    </tr>\n",
              "    <tr>\n",
              "      <th>2019-03-14 19:30:00</th>\n",
              "      <td>114.553</td>\n",
              "      <td>8.779</td>\n",
              "      <td>9.157614</td>\n",
              "      <td>11.686316</td>\n",
              "    </tr>\n",
              "    <tr>\n",
              "      <th>2019-03-14 19:45:00</th>\n",
              "      <td>114.543</td>\n",
              "      <td>8.779</td>\n",
              "      <td>9.154553</td>\n",
              "      <td>11.688357</td>\n",
              "    </tr>\n",
              "    <tr>\n",
              "      <th>2019-03-14 20:00:00</th>\n",
              "      <td>114.591</td>\n",
              "      <td>8.779</td>\n",
              "      <td>9.156264</td>\n",
              "      <td>11.691542</td>\n",
              "    </tr>\n",
              "  </tbody>\n",
              "</table>\n",
              "</div>"
            ],
            "text/plain": [
              "                     LOGGER_Pressure_kPa  ...  LOGGER_mWater_corr\n",
              "DateTime                                  ...                    \n",
              "2019-03-14 19:00:00              114.620  ...           11.690614\n",
              "2019-03-14 19:15:00              114.591  ...           11.685600\n",
              "2019-03-14 19:30:00              114.553  ...           11.686316\n",
              "2019-03-14 19:45:00              114.543  ...           11.688357\n",
              "2019-03-14 20:00:00              114.591  ...           11.691542\n",
              "\n",
              "[5 rows x 4 columns]"
            ]
          },
          "metadata": {
            "tags": []
          },
          "execution_count": 22
        }
      ]
    },
    {
      "cell_type": "code",
      "metadata": {
        "id": "n32nhgSE0orh"
      },
      "source": [
        "#Save a copy to the folder with a suffix and delete old copy\r\n",
        "df.to_csv(path+datfile.split('.')[0]+'_baroCorrect.csv')\r\n",
        "os.remove(path+datfile)"
      ],
      "execution_count": null,
      "outputs": []
    }
  ]
}