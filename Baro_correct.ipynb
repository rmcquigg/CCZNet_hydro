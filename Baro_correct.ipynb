{
  "nbformat": 4,
  "nbformat_minor": 0,
  "metadata": {
    "colab": {
      "name": "Baro_correct.ipynb",
      "provenance": [],
      "collapsed_sections": [],
      "authorship_tag": "ABX9TyMif2N1hr3UEiQK2g+gqPLP"
    },
    "kernelspec": {
      "name": "python3",
      "display_name": "Python 3"
    }
  },
  "cells": [
    {
      "cell_type": "markdown",
      "metadata": {
        "id": "As8e5ewdKIAi"
      },
      "source": [
        "###**LTC or pressure datalogger correction for barometric pressure fluctuations**"
      ]
    },
    {
      "cell_type": "code",
      "metadata": {
        "id": "Y22uRbOB0KVz"
      },
      "source": [
        "#Connect to Drive\r\n",
        "from google.colab import drive\r\n",
        "drive.mount(\"/content/drive/\")\r\n",
        "import pandas as pd\r\n",
        "import os"
      ],
      "execution_count": null,
      "outputs": []
    },
    {
      "cell_type": "markdown",
      "metadata": {
        "id": "FJ_5Ueeu0Os0"
      },
      "source": [
        "Specify file names for LTC and barometric files. Path name should be the same- make sure working files are in the preprocess_files folder."
      ]
    },
    {
      "cell_type": "code",
      "metadata": {
        "id": "auKKXb5M0MsY"
      },
      "source": [
        "#Rename the datfile and barofile to the filenames you want to use\r\n",
        "path='/content/drive/My Drive/CZN_hydro/Water/preprocess_files/'\r\n",
        "datfile='BN_A_20190314_LT.csv'\r\n",
        "barofile='BN_20190314_Baro.csv'"
      ],
      "execution_count": null,
      "outputs": []
    },
    {
      "cell_type": "markdown",
      "metadata": {
        "id": "S45uyXkaP3lb"
      },
      "source": [
        "For **Onset HOBO loggers**, run the 3 following code blocks.\r\n",
        "Skip this part if you're using another brand."
      ]
    },
    {
      "cell_type": "code",
      "metadata": {
        "id": "ANsuwAKL0ZFp"
      },
      "source": [
        "#1\r\n",
        "#Open data logger file, skip first row, only first 4 columns - *You may need to add another column if this is a LTC vs a LT*\r\n",
        "#Add \"encoding='gbk'\" if degrees symbol doesn't show up\r\n",
        "df=pd.read_csv(path+datfile,encoding='gbk',skiprows=1,usecols = [i for i in range(4)])\r\n",
        "df.rename(columns = {list(df)[1]:'DateTime',list(df)[2]:'LOGGER_P_kPa',\r\n",
        "                     list(df)[3]:'LOGGER_Temp_C'}, inplace = True)\r\n",
        "df['DateTime']=pd.to_datetime(df['DateTime'])\r\n",
        "df=df.set_index('DateTime')\r\n",
        "df=df.drop(['#'],axis=1)\r\n",
        "#Drop any rows at the end with no value\r\n",
        "s=str(df['LOGGER_P_kPa'].last_valid_index())\r\n",
        "df=df[df.index<=s]\r\n",
        "\r\n",
        "#Bring in barometric data\r\n",
        "barodf=pd.read_csv(path+barofile,skiprows=1,usecols = [i for i in range(4)])\r\n",
        "barodf.rename(columns = {list(barodf)[1]:'DateTime',list(barodf)[2]:'BARO_P_kPa',\r\n",
        "                         list(barodf)[3]:'BARO_Temp_C'}, inplace = True) \r\n",
        "barodf['DateTime']=pd.to_datetime(barodf['DateTime'])\r\n",
        "barodf=barodf.set_index('DateTime')\r\n",
        "barodf=barodf.drop(['#'],axis=1)"
      ],
      "execution_count": null,
      "outputs": []
    },
    {
      "cell_type": "code",
      "metadata": {
        "id": "FhymPF2wmy0N"
      },
      "source": [
        "#2\r\n",
        "#Convert baro pressure to meters water\r\n",
        "df.rename(columns = {'BARO_P_kPa':'BARO_mWater'}, inplace=True)\r\n",
        "df['BARO_mWater']=(df['BARO_mWater']*KPA_PSI*PSI_FT*FT_M)\r\n",
        "BP1=df['BARO_mWater'][0]"
      ],
      "execution_count": null,
      "outputs": []
    },
    {
      "cell_type": "code",
      "metadata": {
        "id": "hzFTwl24mfeX"
      },
      "source": [
        "#3\r\n",
        "#Get the temperature-dependent density compensation correction values\r\n",
        "te=df['LOGGER_Temp_C']\r\n",
        "p_lbft3=(((999.83952+16.945176*te)-(7.9870401e-03*(te**2))-(46.170461e-06*(te**3))+\r\n",
        "      (105.56302e-09*(te**4)) - (280.54253e-12*(te**5))) / (1 + 16.879850e-03*te))*0.0624279606\r\n",
        "#Conversion constants\r\n",
        "PSI_PSF=144\r\n",
        "KPA_PSI=0.1450377\r\n",
        "FT_M=0.3048\r\n",
        "PSI_FT=2.0366\r\n",
        "\r\n",
        "#Convert logger pressure to meters water with density compensation\r\n",
        "df['LOGGER_mWater_corr']=((KPA_PSI*PSI_PSF*df['LOGGER_P_kPa']/p_lbft3)*FT_M)+(BP1-df['BARO_mWater'])\r\n",
        "\r\n",
        "df.head()"
      ],
      "execution_count": null,
      "outputs": []
    },
    {
      "cell_type": "markdown",
      "metadata": {
        "id": "Z0GsmJzzQEX4"
      },
      "source": [
        "For **Solinst LTC loggers**, run the 3 following code blocks.\r\n",
        "Skip this part if you're using another brand."
      ]
    },
    {
      "cell_type": "code",
      "metadata": {
        "id": "2f-W803YQKoD"
      },
      "source": [
        "#1\r\n",
        "#Import custom function - available for download on Github as find_first_row.py\r\n",
        "import sys\r\n",
        "sys.path.append('/content/drive/My Drive/CZN_hydro/Water/process_scripts')\r\n",
        "import find_first_row\r\n",
        "#Solinst typically have some logger metadata at the top of the file; this is to skip over that\r\n",
        "ffr=find_first_row.first_row('/content/drive/My Drive/CZN_hydro/Water/preprocess_files/'+file)\r\n",
        "ffrbaro=find_first_row.first_row('/content/drive/My Drive/CZN_hydro/Water/preprocess_files/'+barofile)\r\n",
        "#print(ffr)\r\n",
        "\r\n",
        "#Open data logger file\r\n",
        "df=pd.read_csv(path+datfile,skiprows=ffr)\r\n",
        "DateTime=df['Date']+' '+df['Time']\r\n",
        "df.insert(0,'DateTime',DateTime)\r\n",
        "df['DateTime']=pd.to_datetime(df['DateTime']).dt.round('15min').dt.strftime('%m/%d/%Y %H:%M:%S')\r\n",
        "df.rename(columns={'LEVEL':'LOGGER_mWater','TEMPERATURE':'LOGGER_Temp_C','CONDUCTIVITY':'LOGGER_EC'})\r\n",
        "df=df.set_index('DateTime')\r\n",
        "\r\n",
        "#Bring in barometric data\r\n",
        "barodf=pd.read_csv(path+barofile,skiprows=ffrbaro)\r\n",
        "DateTime=df['Date']+' '+df['Time']\r\n",
        "df.insert(0,'DateTime',DateTime)\r\n",
        "df['DateTime']=pd.to_datetime(df['DateTime']).dt.round('15min').dt.strftime('%m/%d/%Y %H:%M:%S')\r\n",
        "df.rename(columns={'LEVEL':'BARO_P_kPa','TEMPERATURE':'BARO_Temp_C'})\r\n",
        "barodf['DateTime']=pd.to_datetime(barodf['DateTime'])\r\n",
        "barodf=barodf.set_index('DateTime')"
      ],
      "execution_count": null,
      "outputs": []
    },
    {
      "cell_type": "code",
      "metadata": {
        "id": "ZEm6LB1fQJh-"
      },
      "source": [
        "#2\r\n",
        "#Merge two dataframes, keeps ALL LTC records and interpolates any missing baro P values\r\n",
        "df=df.merge(barodf['BARO_P_kPa'],how='left',left_index=True,right_index=True)\r\n",
        "df['BARO_P_kPa']=df['BARO_P_kPa'].interpolate(axis=0)"
      ],
      "execution_count": null,
      "outputs": []
    },
    {
      "cell_type": "code",
      "metadata": {
        "id": "BaWgXhTum7Mr"
      },
      "source": [
        "#3\r\n",
        "#Convert baro pressure to meters water\r\n",
        "df.rename(columns = {'BARO_P_kPa':'BARO_mWater'}, inplace=True)\r\n",
        "df['BARO_mWater']=(df['BARO_mWater']*KPA_PSI*PSI_FT*FT_M)\r\n",
        "BP1=df['BARO_mWater'][0]\r\n",
        "\r\n",
        "#Correct for baro pressure\r\n",
        "df['LOGGER_mWater_corr']=df['LOGGER_mWater']+(BP1-df['BARO_mWater'])\r\n",
        "\r\n",
        "df.head()"
      ],
      "execution_count": null,
      "outputs": []
    },
    {
      "cell_type": "markdown",
      "metadata": {
        "id": "NgpZ4UhmyLrm"
      },
      "source": [
        "Run the following for ALL logger brands."
      ]
    },
    {
      "cell_type": "code",
      "metadata": {
        "id": "n32nhgSE0orh"
      },
      "source": [
        "#Save a copy to the folder with a suffix and delete old copy\r\n",
        "df.to_csv(path+datfile.split('.')[0]+'_baroCorrect.csv')\r\n",
        "os.remove(path+datfile)"
      ],
      "execution_count": null,
      "outputs": []
    }
  ]
}