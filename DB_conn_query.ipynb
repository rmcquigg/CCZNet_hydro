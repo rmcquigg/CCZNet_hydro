{
  "nbformat": 4,
  "nbformat_minor": 0,
  "metadata": {
    "colab": {
      "name": "connect_to_db.ipynb",
      "provenance": [],
      "collapsed_sections": [],
      "authorship_tag": "ABX9TyOgOEdx+4aVqdPdv3maGoGa"
    },
    "kernelspec": {
      "name": "python3",
      "display_name": "Python 3"
    }
  },
  "cells": [
    {
      "cell_type": "markdown",
      "metadata": {
        "id": "jY2GistG736h"
      },
      "source": [
        "##**Connect to the Database**\r\n",
        "\r\n",
        "To run, you need to run the same Python version as Microsoft Office (Access) - they BOTH need to be either 32-bit or 64-bit. The first code block below will check what version of Python you're running.\r\n",
        "\r\n",
        "---\r\n",
        "To work around this, create a virtual environment with whatever verison of Python matches your version of Office (ex. if you're running Office x32, then create a virtual env with Python x32).\r\n",
        "\r\n",
        "Next, make sure you have JupyterLab installed. Open your new virtual env and type \"pip install jupyterlab\" into the terminal. Install the server extension the same way: \"pip install jupyter_http_over_ws\", then enable it: \"jupyter serverextension enable --py jupyter_http_over_ws\". The terminal will spit out a URL to copy and open JupyterLab in a web browser.\r\n",
        "\r\n",
        "Open up your Colab Notebook and at the top-right, click the drop-down arrow next to \"Connect\" and select \"Connect to local runtime\". Paste the URL you've copied and it should say \"Connected (Local)\". You are no longer connected to your Google Drive, but to your local machine. This includes your Google Drive."
      ]
    },
    {
      "cell_type": "code",
      "metadata": {
        "colab": {
          "base_uri": "https://localhost:8080/"
        },
        "id": "w8OXGEYcxSDS",
        "outputId": "a5ac568d-bcf4-40d7-d51b-857ddb03536e"
      },
      "source": [
        "#Check wehther Python is 32 or 64 bit\r\n",
        "import numpy.distutils.system_info as sysinfo\r\n",
        "sysinfo.platform_bits"
      ],
      "execution_count": 1,
      "outputs": [
        {
          "output_type": "execute_result",
          "data": {
            "text/plain": [
              "32"
            ]
          },
          "metadata": {
            "tags": []
          },
          "execution_count": 1
        }
      ]
    },
    {
      "cell_type": "code",
      "metadata": {
        "id": "fKSgjOacEbgV"
      },
      "source": [
        "import pyodbc\r\n",
        "import pandas as pd"
      ],
      "execution_count": 2,
      "outputs": []
    },
    {
      "cell_type": "code",
      "metadata": {
        "id": "dA4v25nax8Im"
      },
      "source": [
        "#Change the path and filename below\r\n",
        "conn = pyodbc.connect(r'DRIVER={Microsoft Access Driver (*.mdb, *.accdb)};DBQ=G:\\Shared drives\\CZN_HydroGroup\\Water\\data_tables\\hydro.accdb;')\r\n",
        "cursor = conn.cursor()"
      ],
      "execution_count": 3,
      "outputs": []
    },
    {
      "cell_type": "code",
      "metadata": {
        "id": "jK4D3Nxtx2Ug",
        "colab": {
          "base_uri": "https://localhost:8080/"
        },
        "outputId": "9f45e28d-abbb-4832-d52e-8d691ac897ee"
      },
      "source": [
        "#Change the SQL query to whatever you want to look up\r\n",
        "SQL='select * from lookup order by table, field, code'\r\n",
        "cursor.execute(SQL)\r\n",
        "#Get table into a pandas df\r\n",
        "d=pd.read_sql_query(SQL,conn)\r\n",
        "print(d)"
      ],
      "execution_count": 4,
      "outputs": [
        {
          "output_type": "stream",
          "text": [
            "     Table        Field   Code                  Description\n",
            "0    block    data_type      C         specific conductance\n",
            "1    block    data_type      L                  water level\n",
            "2    block    data_type      M                soil moisture\n",
            "3    block    data_type      T                  temperature\n",
            "4    block    data_type      X                        redox\n",
            "5    block        datum     GS               ground surface\n",
            "6    block        datum    TOC                top of casing\n",
            "7    block       matrix      S                         soil\n",
            "8    block       matrix      W                        water\n",
            "9    block       sensor  Diver                    CTD Diver\n",
            "10   block       sensor   HOBO                   Onset HOBO\n",
            "11   block       sensor  M3001            Solinst LTC M3001\n",
            "12   block       sensor  Paleo             Paleoterra redox\n",
            "13   block         unit     DC              degrees Celsius\n",
            "14   block         unit      F                         feet\n",
            "15   block         unit      M                        meter\n",
            "16   block         unit      P                      percent\n",
            "17   block         unit     US  microSiemens per centimeter\n",
            "18  global     initials     DP              Dannielle Pratt\n",
            "19  global     initials     DW                Dani Weissman\n",
            "20  global     initials     GN              Giovanna Nordio\n",
            "21  global     initials     RM             Rachel McQuiggan\n",
            "22  global     initials    UNK                      Unknown\n",
            "23   sites    coord_acc      M                      minutes\n",
            "24   sites    coord_acc      S                      seconds\n",
            "25   sites   coord_meth      G                      GIS/map\n",
            "26   sites   coord_meth      P             differential GPS\n",
            "27   sites   coord_meth      R                          RTK\n",
            "28   sites        datum     29                       NAVD29\n",
            "29   sites        datum     88                       NAVD88\n",
            "30   sites           mp     GS               ground surface\n",
            "31   sites           mp     SG                   staff gage\n",
            "32   sites           mp    TOC                top of casing\n",
            "33   sites      mp_meth      D                        LiDAR\n",
            "34   sites      mp_meth      L             autolevel survey\n",
            "35   sites      mp_meth      R                          RTK\n",
            "36   sites    site_type      B                  soil boring\n",
            "37   sites    site_type      S                surface water\n",
            "38   sites    site_type      W              monitoring well\n",
            "39  watlev    device_sn      U                      Unknown\n",
            "40  watlev  device_type      C                   chalk line\n",
            "41  watlev  device_type      L                       logger\n",
            "42  watlev  device_type      M                      m-scope\n",
            "43  watlev  device_type      T                electric tape\n",
            "44  watlev  device_type      U                      unknown\n",
            "45  watlev           mp     GS               ground surface\n",
            "46  watlev           mp     SG                   staff gage\n",
            "47  watlev           mp    TOC                top of casing\n"
          ],
          "name": "stdout"
        }
      ]
    },
    {
      "cell_type": "code",
      "metadata": {
        "id": "Wku7AUcNAx8B"
      },
      "source": [
        "#*IMPORTANT* - makre sure you close the connection when you're done with a query!\r\n",
        "conn.close()\r\n",
        "#Save df as a csv file\r\n",
        "d.to_csv('G:\\Shared drives\\CZN_HydroGroup\\Water\\data_tables\\lookup.csv', index=False)"
      ],
      "execution_count": 5,
      "outputs": []
    }
  ]
}