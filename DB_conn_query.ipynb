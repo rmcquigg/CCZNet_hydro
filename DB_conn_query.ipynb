{
  "nbformat": 4,
  "nbformat_minor": 0,
  "metadata": {
    "colab": {
      "name": "connect_to_db.ipynb",
      "provenance": [],
      "collapsed_sections": [],
      "authorship_tag": "ABX9TyOgOEdx+4aVqdPdv3maGoGa"
    },
    "kernelspec": {
      "name": "python3",
      "display_name": "Python 3"
    }
  },
  "cells": [
    {
      "cell_type": "markdown",
      "metadata": {
        "id": "jY2GistG736h"
      },
      "source": [
        "##**Connect to the Database**\r\n",
        "\r\n",
        "To run, you need to run the same Python version as Microsoft Office (Access) - they BOTH need to be either 32-bit or 64-bit. The first code block below will check what version of Python you're running.\r\n",
        "\r\n",
        "---\r\n",
        "To work around this, create a virtual environment with whatever verison of Python matches your version of Office (ex. if you're running Office x32, then create a virtual env with Python x32).\r\n",
        "\r\n",
        "Next, make sure you have JupyterLab installed. Open your new virtual env and type \"pip install jupyterlab\" into the terminal. Install the server extension the same way: \"pip install jupyter_http_over_ws\", then enable it: \"jupyter serverextension enable --py jupyter_http_over_ws\". The terminal will spit out a URL to copy and open JupyterLab in a web browser.\r\n",
        "\r\n",
        "Open up your Colab Notebook and at the top-right, click the drop-down arrow next to \"Connect\" and select \"Connect to local runtime\". Paste the URL you've copied and it should say \"Connected (Local)\". You are no longer connected to your Google Drive, but to your local machine. This includes your Google Drive."
      ]
    },
    {
      "cell_type": "code",
      "metadata": {
        "id": "w8OXGEYcxSDS"
      },
      "source": [
        "#Check wehther Python is 32 or 64 bit\r\n",
        "import numpy.distutils.system_info as sysinfo\r\n",
        "sysinfo.platform_bits"
      ],
      "execution_count": null,
      "outputs": []
    },
    {
      "cell_type": "code",
      "metadata": {
        "id": "fKSgjOacEbgV"
      },
      "source": [
        "import pyodbc\r\n",
        "import pandas as pd"
      ],
      "execution_count": 2,
      "outputs": []
    },
    {
      "cell_type": "code",
      "metadata": {
        "id": "dA4v25nax8Im"
      },
      "source": [
        "#Change the path and filename below\r\n",
        "conn = pyodbc.connect(r'DRIVER={Microsoft Access Driver (*.mdb, *.accdb)};DBQ=G:\\Shared drives\\CZN_HydroGroup\\Water\\data_tables\\hydro.accdb;')\r\n",
        "cursor = conn.cursor()"
      ],
      "execution_count": 3,
      "outputs": []
    },
    {
      "cell_type": "code",
      "metadata": {
        "id": "jK4D3Nxtx2Ug"
      },
      "source": [
        "#Change the SQL query to whatever you want to look up\r\n",
        "SQL='select * from lookup order by table, field, code'\r\n",
        "cursor.execute(SQL)\r\n",
        "#Get table into a pandas df\r\n",
        "d=pd.read_sql_query(SQL,conn)\r\n",
        "print(d)"
      ],
      "execution_count": null,
      "outputs": []
    },
    {
      "cell_type": "code",
      "metadata": {
        "id": "Wku7AUcNAx8B"
      },
      "source": [
        "#*IMPORTANT* - makre sure you close the connection when you're done with a query!\r\n",
        "conn.close()\r\n",
        "#Save df as a csv file\r\n",
        "d.to_csv('G:\\Shared drives\\CZN_HydroGroup\\Water\\data_tables\\lookup.csv', index=False)"
      ],
      "execution_count": 5,
      "outputs": []
    }
  ]
}