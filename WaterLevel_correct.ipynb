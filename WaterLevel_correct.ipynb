{
  "nbformat": 4,
  "nbformat_minor": 0,
  "metadata": {
    "colab": {
      "name": "WaterLevel_correct.ipynb",
      "provenance": [],
      "collapsed_sections": [],
      "authorship_tag": "ABX9TyMiUNk4x3Y/SYI6mTK386kQ"
    },
    "kernelspec": {
      "name": "python3",
      "display_name": "Python 3"
    }
  },
  "cells": [
    {
      "cell_type": "markdown",
      "metadata": {
        "id": "RDE6bX8Fg9Dd"
      },
      "source": [
        "# **The code below is to correct for water level logger drift, check accuracy of logger deployment and add the deployment block information to the block table.**\r\n",
        "\r\n",
        "It does not require any Python knowledge, but it does require Python and certain packages to be installed on your computer. Read the code comments embedded in each code block carefully (denoted by '#'), as some components require user input (initials, manual water level measurements, etc.).\r\n",
        "\r\n",
        "So far, this is tailored to *Solinst brand* data logger files. We will need some extra components for other brands, but at  this point I don't know what those data files look like.\r\n",
        "\r\n",
        "\r\n",
        "---\r\n",
        "\r\n"
      ]
    },
    {
      "cell_type": "markdown",
      "metadata": {
        "id": "F3-WxnGaQ8Rt"
      },
      "source": [
        "**Connect to Shared Drive**\r\n",
        "\r\n",
        "You will be prompted to click on a link that will show you an authorization code. copy the authorization code into the input box below. You also may be asked to allow Google Colab access to your Drive."
      ]
    },
    {
      "cell_type": "code",
      "metadata": {
        "id": "n-maZyicQ34i",
        "colab": {
          "base_uri": "https://localhost:8080/"
        },
        "outputId": "668e974d-a281-4e4a-df79-74fa30becc91"
      },
      "source": [
        "from google.colab import drive\r\n",
        "drive.mount(\"/content/drive/\")"
      ],
      "execution_count": 1,
      "outputs": [
        {
          "output_type": "stream",
          "text": [
            "Mounted at /content/drive/\n"
          ],
          "name": "stdout"
        }
      ]
    },
    {
      "cell_type": "markdown",
      "metadata": {
        "id": "qjZqUNbrRHWY"
      },
      "source": [
        "**Import packages**\r\n",
        "\r\n",
        "You may need to install these packages on your computer, if they're not already. To do this through a command prompt on Windows, Python needs to be discoverable by your PATH variable (add the directory location of Python OR Python packages within a virtual environment to your system user variables). You can then either install directly or use pip installer (\"pip install *package name*\") through the terminal."
      ]
    },
    {
      "cell_type": "code",
      "metadata": {
        "id": "fAcyDggvROGd",
        "colab": {
          "base_uri": "https://localhost:8080/"
        },
        "outputId": "0a0fc2b0-a491-4adf-8d48-72f4fbb48a1e"
      },
      "source": [
        "import pandas as pd\r\n",
        "import matplotlib.pyplot as plt\r\n",
        "%matplotlib auto\r\n",
        "import numpy as np\r\n",
        "from datetime import date"
      ],
      "execution_count": 2,
      "outputs": [
        {
          "output_type": "stream",
          "text": [
            "Using matplotlib backend: agg\n"
          ],
          "name": "stdout"
        }
      ]
    },
    {
      "cell_type": "markdown",
      "metadata": {
        "id": "o6P5gXQqRoEw"
      },
      "source": [
        ""
      ]
    },
    {
      "cell_type": "code",
      "metadata": {
        "id": "0nSQ9ZImReuy",
        "colab": {
          "base_uri": "https://localhost:8080/"
        },
        "outputId": "567c387d-0bd5-4a17-fc11-b494016a03c9"
      },
      "source": [
        "path='/content/drive/My Drive/CZN_hydro/Water/preprocess_files/'\r\n",
        "#Change file name below\r\n",
        "file='Eb41-18_200807_LTC.csv'\r\n",
        "df=pd.read_csv(path+file)\r\n",
        "\r\n",
        "start_date=df['Date'][0]\r\n",
        "end_date=df['Date'][len(df['Date'])-1]\r\n",
        "print('Need manual measurements collected on '+start_date+' and '+end_date)"
      ],
      "execution_count": 4,
      "outputs": [
        {
          "output_type": "stream",
          "text": [
            "Need manual measurements collected on 8/7/2020 and 11/10/2020\n"
          ],
          "name": "stdout"
        }
      ]
    },
    {
      "cell_type": "markdown",
      "metadata": {
        "id": "H49hsNEASMAe"
      },
      "source": [
        "Lookup manual measurements and add as variables"
      ]
    },
    {
      "cell_type": "code",
      "metadata": {
        "id": "hVYExXN5SJJ-"
      },
      "source": [
        "start_lev=2.90\r\n",
        "end_lev=2.31\r\n",
        "\r\n",
        "#Combine date and time fields, round to nearest 15 min increment 00:15:00) and set to index\r\n",
        "df['DateTime']=pd.to_datetime(df['Date']+\" \"+df['Time'])\r\n",
        "df['DateTime']=pd.to_datetime(df['DateTime']).dt.round('15min').dt.strftime('%m/%d/%Y %H:%M:%S')\r\n",
        "df=df.set_index('DateTime')\r\n",
        "#Add extra DateTime field for interactive plot\r\n",
        "df['DateTime']=pd.to_datetime(df['Date']+\" \"+df['Time'])"
      ],
      "execution_count": 5,
      "outputs": []
    },
    {
      "cell_type": "markdown",
      "metadata": {
        "id": "c2l2RMAFS35_"
      },
      "source": [
        "Plot Water Level data"
      ]
    },
    {
      "cell_type": "code",
      "metadata": {
        "id": "dkzGT13VSf0u"
      },
      "source": [
        "df.plot(x='DateTime',y='LEVEL',style='.',rot=45)\r\n",
        "plt.grid()\r\n",
        "plt.tight_layout()\r\n",
        "plt.show()"
      ],
      "execution_count": null,
      "outputs": []
    },
    {
      "cell_type": "markdown",
      "metadata": {
        "id": "UnvRcWT7TEr6"
      },
      "source": [
        "**Below are some common corrections to remove noisy or rogue data points**\r\n",
        "\r\n",
        "All require some manual entry (i.e. number of rows, date and time). Zoom in and pan through the interactive plot to find info for specific points or periods of data. You can run one or more separately."
      ]
    },
    {
      "cell_type": "code",
      "metadata": {
        "id": "VilcMiJ5eT6r"
      },
      "source": [
        "#To remove a specified number of records at the start of the file\r\n",
        "#Enter the number of rows below as start_del\r\n",
        "start_del=1\r\n",
        "df=df.iloc[start_del:]"
      ],
      "execution_count": null,
      "outputs": []
    },
    {
      "cell_type": "code",
      "metadata": {
        "id": "4I2FuKhTeYNT"
      },
      "source": [
        "#To remove a specified number of records at the end of the file\r\n",
        "#Enter the number of rows below as end_del\r\n",
        "end_del=1\r\n",
        "df=df.iloc[:-end_del]"
      ],
      "execution_count": null,
      "outputs": []
    },
    {
      "cell_type": "code",
      "metadata": {
        "id": "v48H9Sw6eaVH"
      },
      "source": [
        "#To interpolate values between two records (i.e. smooth over a point)\r\n",
        "#Change the date and time to that of whatever point you want to smooth over\r\n",
        "#Can do this multiple times for multiple points and the interpolate function will do all at once\r\n",
        "point=(df.index.get_loc('08/28/2020 14:30:00'))\r\n",
        "df['LEVEL'][point]=np.nan\r\n",
        "df['LEVEL']=df['LEVEL'].interpolate(axis=0)\r\n",
        "print(df['LEVEL'][point])"
      ],
      "execution_count": null,
      "outputs": []
    },
    {
      "cell_type": "code",
      "metadata": {
        "id": "xIdShYKoTLaZ"
      },
      "source": [
        "#To interpolate values over multiple records (i.e. interpolate over multiple consecutive records)\r\n",
        "#Change the date and time for the first (first_pt) and last (last_pt) of the interval\r\n",
        "first_pt=df.index.get_loc('08/28/2020 14:30:00')\r\n",
        "last_pt=df.index.get_loc('08/28/2020 15:30:00')+1\r\n",
        "df['LEVEL'][first_pt:last_pt]=np.nan\r\n",
        "df['LEVEL']=df['LEVEL'].interpolate(axis=0)"
      ],
      "execution_count": null,
      "outputs": []
    },
    {
      "cell_type": "markdown",
      "metadata": {
        "id": "NgP8jNv_TPzj"
      },
      "source": [
        "**After removing and cleaning all noisy data, run the code below to correct water level values for sensor drift**\r\n",
        "\r\n",
        "Your starting level (first record value) should match your starting manual measurement and your ending level (last record value) should match your end manual measurement."
      ]
    },
    {
      "cell_type": "code",
      "metadata": {
        "id": "dp5x2Q4ETUxJ"
      },
      "source": [
        "df['LEVEL_corr']=df['LEVEL']\r\n",
        "n=len(df['LEVEL'])-1\r\n",
        "LTCinit=df['LEVEL'][0]\r\n",
        "LTCend=df['LEVEL'][n]\r\n",
        "acc=(end_lev-LTCend)-(start_lev-LTCinit)\r\n",
        "K=acc/(n-1)\r\n",
        "\r\n",
        "new_lc=[]\r\n",
        "for index,val in enumerate(df['LEVEL'],start=1):\r\n",
        "    corr=(start_lev-LTCinit)+K*(index-1)\r\n",
        "    new=round(val+corr,2)\r\n",
        "    new_lc.append(new)\r\n",
        "\r\n",
        "df['LEVEL_corr']=new_lc"
      ],
      "execution_count": null,
      "outputs": []
    },
    {
      "cell_type": "markdown",
      "metadata": {
        "id": "Pg5jX1ncT1xm"
      },
      "source": [
        "**Add record data to block table**"
      ]
    },
    {
      "cell_type": "code",
      "metadata": {
        "id": "TDI2PtcpT4Z8"
      },
      "source": [
        "#Open existing block table from GDrive\r\n",
        "df_block=pd.read_csv(path+'block.csv')\r\n",
        "\r\n",
        "#Get block table info\r\n",
        "block_start_time=df.index[0]\r\n",
        "block_end_time=df.index[len(df['Date'])-1]\r\n",
        "site_id=file.split('_')[0]\r\n",
        "blockno=df_block['BlockNo'].max()+1\r\n",
        "ind1=df_block['Index2'].max()+1\r\n",
        "ind2=ind1+n\r\n",
        "process_date=date.today().strftime('%Y-%m-%d')\r\n",
        "\r\n",
        "def find_drift():\r\n",
        "    if dat_type=='W':\r\n",
        "        return np.nan\r\n",
        "    elif dat_type=='T':\r\n",
        "        return np.nan\r\n",
        "    elif dat_type=='C':\r\n",
        "        return (end_cal-start_cal)\r\n",
        "    else:\r\n",
        "        print('You have entered an invalid data type')"
      ],
      "execution_count": null,
      "outputs": []
    },
    {
      "cell_type": "markdown",
      "metadata": {
        "id": "8czhyi37fvAG"
      },
      "source": [
        "Manually enter some variables below"
      ]
    },
    {
      "cell_type": "code",
      "metadata": {
        "id": "oUG9GI1ydefO"
      },
      "source": [
        "drift=find_drift()\r\n",
        "\r\n",
        "#Enter the variables below\r\n",
        "initials='RWM' \r\n",
        "dat_type='W'\r\n",
        "device='SolinstM3001'\r\n",
        "sensor_sn=89864567\r\n",
        "unit='F'\r\n",
        "datum='TOC'\r\n",
        "interval=15\r\n"
      ],
      "execution_count": null,
      "outputs": []
    },
    {
      "cell_type": "code",
      "metadata": {
        "id": "0AHWKzkbT-s-"
      },
      "source": [
        "#Append to block table\r\n",
        "df_block=df_block.append({'BlockNo':blockno,\r\n",
        "                          'Site_id':site_id,\r\n",
        "                          'Start_time':block_start_time,\r\n",
        "                          'Index1':ind1,\r\n",
        "                          'End_time':block_end_time,\r\n",
        "                          'Index2':ind2,\r\n",
        "                          'Type':dat_type,\r\n",
        "                          'Device':device,\r\n",
        "                          'Sensor_sn':sensor_sn,\r\n",
        "                          'Unit':unit,\r\n",
        "                          'Interval':interval,\r\n",
        "                          'Datum':datum,\r\n",
        "                          'Accuracy':acc,\r\n",
        "                          'Drift':drift,\r\n",
        "                          'Process_initials':initials,\r\n",
        "                          'Process_date':process_date},ignore_index=True)"
      ],
      "execution_count": null,
      "outputs": []
    }
  ]
}